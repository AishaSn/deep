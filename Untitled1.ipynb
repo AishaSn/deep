{
 "cells": [
  {
   "cell_type": "code",
   "execution_count": 3,
   "id": "9e98c924-30c1-47a9-abb9-47ab3d1a55fc",
   "metadata": {},
   "outputs": [],
   "source": [
    "import numpy as np\n",
    "\n",
    "from urllib.request import urlopen"
   ]
  },
  {
   "cell_type": "code",
   "execution_count": 5,
   "id": "286de858-aa8a-4e69-bca1-9bc74fb19a94",
   "metadata": {},
   "outputs": [],
   "source": [
    "# Load the Iris dataset from UCI\n",
    "def load_iris_data():\n",
    "    url = \"https://archive.ics.uci.edu/ml/machine-learning-databases/iris/iris.data\"\n",
    "    raw_data = urlopen(url).read().decode('utf-8').strip().split(\"\\n\")\n",
    "    data = [line.split(\",\") for line in raw_data if line]\n",
    "    X = np.array([[float(val) for val in row[:4]] for row in data])\n",
    "    return X"
   ]
  },
  {
   "cell_type": "code",
   "execution_count": null,
   "id": "95b96621-ee56-4018-9cb1-b804ba4442a0",
   "metadata": {},
   "outputs": [],
   "source": []
  }
 ],
 "metadata": {
  "kernelspec": {
   "display_name": "Python [conda env:anaconda3]",
   "language": "python",
   "name": "conda-env-anaconda3-py"
  },
  "language_info": {
   "codemirror_mode": {
    "name": "ipython",
    "version": 3
   },
   "file_extension": ".py",
   "mimetype": "text/x-python",
   "name": "python",
   "nbconvert_exporter": "python",
   "pygments_lexer": "ipython3",
   "version": "3.12.7"
  }
 },
 "nbformat": 4,
 "nbformat_minor": 5
}

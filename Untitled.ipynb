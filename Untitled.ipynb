{
 "cells": [
  {
   "cell_type": "code",
   "execution_count": 80,
   "id": "f06390b7-7169-46f5-98ec-8975e4d4d61e",
   "metadata": {},
   "outputs": [],
   "source": [
    "import numpy as np\n",
    "from sklearn.datasets import load_diabetes\n",
    "from sklearn.model_selection import train_test_split"
   ]
  },
  {
   "cell_type": "code",
   "execution_count": 82,
   "id": "2df273db-29fc-4e21-83c8-206160069d2b",
   "metadata": {},
   "outputs": [],
   "source": [
    "# Load dataset\n",
    "diabetes = load_diabetes()\n",
    "X, y = diabetes.data, diabetes.target.reshape(-1, 1)  # reshape y to be a column vector"
   ]
  },
  {
   "cell_type": "code",
   "execution_count": 84,
   "id": "1bf1f684-5143-4580-b008-4682896e109f",
   "metadata": {},
   "outputs": [],
   "source": [
    "# Normalize features manually (mean=0, std=1)\n",
    "X_mean = X.mean(axis=0)\n",
    "X_std = X.std(axis=0)\n",
    "X_norm = (X - X_mean) / X_std"
   ]
  },
  {
   "cell_type": "code",
   "execution_count": 86,
   "id": "74023eb7-adce-4b78-be52-2d1c0f66a1ea",
   "metadata": {},
   "outputs": [],
   "source": [
    "# Train-test split\n",
    "X_train, X_test, y_train, y_test = train_test_split(X_norm, y, test_size=0.2, random_state=42)"
   ]
  },
  {
   "cell_type": "code",
   "execution_count": 88,
   "id": "d9b557d5-9f85-4c3b-bab7-53e6527d72de",
   "metadata": {},
   "outputs": [],
   "source": [
    "# Initialize parameters\n",
    "input_size = 10\n",
    "hidden_size = 8\n",
    "output_size = 1\n",
    "lr = 0.01\n",
    "epochs = 100"
   ]
  },
  {
   "cell_type": "code",
   "execution_count": 90,
   "id": "b94d7479-f2e8-4686-9265-6295593d7075",
   "metadata": {},
   "outputs": [],
   "source": [
    "# Initialize weights and biases\n",
    "W1 = np.random.randn(input_size, hidden_size) \n",
    "b = np.random.randn()\n",
    "W2 = np.random.randn(hidden_size, output_size) \n"
   ]
  },
  {
   "cell_type": "code",
   "execution_count": 92,
   "id": "8518b2d8-8307-4bbb-8050-d8f874166d9b",
   "metadata": {},
   "outputs": [],
   "source": [
    "# Sigmoid function\n",
    "def sigmoid(x):\n",
    "    return 1 / (1 + np.exp(-x))"
   ]
  },
  {
   "cell_type": "code",
   "execution_count": 94,
   "id": "c2f9df89-8cef-4350-bdec-ffbcd3209896",
   "metadata": {},
   "outputs": [],
   "source": [
    "# MSE loss function to calculate loss\n",
    "def loss(y_hat_1, y1, y_hat_2, y2):\n",
    "    return 0.5 * ((y_hat_1 - y1) ** 2 + (y_hat_2 - y2) ** 2)"
   ]
  },
  {
   "cell_type": "code",
   "execution_count": 96,
   "id": "f5dc88e0-8074-4082-bcd4-abd890da6eb7",
   "metadata": {},
   "outputs": [],
   "source": [
    "# Relu function\n",
    "def relu(x):\n",
    "    return x if x > 0 else 0"
   ]
  },
  {
   "cell_type": "code",
   "execution_count": 98,
   "id": "d683de17-1e07-4aff-a2fc-fb8cff455390",
   "metadata": {},
   "outputs": [],
   "source": [
    "# Lists to store loss\n",
    "loss = []"
   ]
  },
  {
   "cell_type": "code",
   "execution_count": 100,
   "id": "0fa1d425-200e-49a2-a83d-61aad638218b",
   "metadata": {},
   "outputs": [],
   "source": [
    "# Training loop\n",
    "for epoch in range(epochs):\n",
    "    # Forward propagation\n",
    "    Z1 = X_train @ W1 + b1\n",
    "    A1 = sigmoid(Z1)\n",
    "    Z2 = A1 @ W2 + b2  # Linear output\n",
    "    y_pred = Z2\n"
   ]
  },
  {
   "cell_type": "code",
   "execution_count": 102,
   "id": "e88a4425-3ebb-4378-bee8-54739ebd9f7d",
   "metadata": {},
   "outputs": [],
   "source": [
    "# # Forward propagation function\n",
    "# def forward_propagation(inputs, weights, bias, y_values):\n",
    "#     w1, w2, w3, w4, w5, w6, w7, w8 = weights\n",
    "#     b1, b2 = bias\n",
    "#     i1, i2 = inputs\n",
    "#     y1, y2 = y_values\n",
    "\n",
    "#     # Hidden layer\n",
    "#     h1 = i1 * w1 + i2 * w3 + b1\n",
    "#     h1_out = relu(h1)\n",
    "#     h2 = i1 * w2 + i2 * w4 + b1\n",
    "#     h2_out = relu(h2)\n",
    "\n",
    "#     # Output layer\n",
    "#     o1 = h1_out * w5 + h2_out * w7 + b2\n",
    "#     o1_out = sigmoid(o1)\n",
    "#     o2 = h1_out * w6 + h2_out * w8 + b2\n",
    "#     o2_out = sigmoid(o2)\n",
    "\n",
    "#     print(\"\\n\\t-Forward Propagation-\")\n",
    "#     print(\"\\n\")\n",
    "#     print(\"h1: \", h1, \"\\th1_out: \", h1_out.round(5))\n",
    "#     print(\"h2: \", h2, \"\\th2_out: \", h2_out.round(5))\n",
    "#     print(\"o1: \", o1, \"\\to1_out: \", o1_out.round(5))\n",
    "#     print(\"o2: \", o2, \"\\to2_out: \", o2_out.round(5))\n",
    "#     print(\"\\nCurrent Loss: \", loss(o1_out, y1, o2_out, y2).round(5))\n",
    "\n",
    "#     hidden_layers = (h1_out, h2_out)\n",
    "#     output_layers = (o1_out, o2_out)\n",
    "#     backward_propagation(inputs, weights, bias, y_values, hidden_layers, output_layers)"
   ]
  },
  {
   "cell_type": "code",
   "execution_count": 104,
   "id": "857873ed-73e0-46e4-8993-69b4dbb34b71",
   "metadata": {},
   "outputs": [],
   "source": [
    "# # Backward propagation function\n",
    "# def backward_propagation(inputs, weights, bias, y_values, hidden_layers, output_layers):\n",
    "#     w1, w2, w3, w4, w5, w6, w7, w8 = weights\n",
    "#     b1, b2 = bias\n",
    "#     i1, i2 = inputs\n",
    "#     y1, y2 = y_values\n",
    "#     h1_out, h2_out = hidden_layers\n",
    "#     o1_out, o2_out = output_layers\n",
    "#     lr = 0.5\n",
    "\n",
    "#     # Output layer deltas\n",
    "#     delta_o1 = (o1_out - y1) * o1_out * (1 - o1_out)\n",
    "#     delta_o2 = (o2_out - y2) * o2_out * (1 - o2_out)\n",
    "\n",
    "#     # Hidden layer deltas\n",
    "#     delta_h1 = (delta_o1 * w5 + delta_o2 * w6) * h1_out * (1 - h1_out)\n",
    "#     delta_h2 = (delta_o1 * w7 + delta_o2 * w8) * h2_out * (1 - h2_out)\n",
    "\n",
    "#     # Gradients for weights\n",
    "#     new_w5 = w5 - lr * delta_o1 * h1_out\n",
    "#     new_w7 = w7 - lr * delta_o1 * h2_out\n",
    "#     new_w6 = w6 - lr * delta_o2 * h1_out\n",
    "#     new_w8 = w8 - lr * delta_o2 * h2_out\n",
    "#     new_w1 = w1 - lr * delta_h1 * i1\n",
    "#     new_w3 = w3 - lr * delta_h1 * i2\n",
    "#     new_w2 = w2 - lr * delta_h2 * i1\n",
    "#     new_w4 = w4 - lr * delta_h2 * i2\n",
    "\n",
    "#     # Gradients for biases\n",
    "#     new_b1 = b1 - lr * (delta_h1 + delta_h2)\n",
    "#     new_b2 = b2 - lr * (delta_o1 + delta_o2)\n",
    "\n",
    "#     print(\"\\n\\t-Backward Propagation-\")\n",
    "#     print(\"\\n\")\n",
    "#     print(\"old w1: \", w1, \"\\tnew w1: \", new_w1.round(5))\n",
    "#     print(\"old w2: \", w2, \"\\tnew w2: \", new_w2.round(5))\n",
    "#     print(\"old w3: \", w3, \"\\tnew w3: \", new_w3.round(5))\n",
    "#     print(\"old w4: \", w4, \"\\tnew w4: \", new_w4.round(5))\n",
    "#     print(\"old w5: \", w5, \"\\tnew w5: \", new_w5.round(5))\n",
    "#     print(\"old w6: \", w6, \"\\tnew w6: \", new_w6.round(5))\n",
    "#     print(\"old w7: \", w7, \"\\tnew w7: \", new_w7.round(5))\n",
    "#     print(\"old w8: \", w8, \"\\tnew w8: \", new_w8.round(5))\n",
    "#     print(\"old b1: \", b1, \"\\tnew b1: \", new_b1.round(5))\n",
    "#     print(\"old b2: \", b2, \"\\tnew b2: \", new_b2.round(5))\n",
    "\n",
    "#     new_weights = (new_w1, new_w2, new_w3, new_w4, new_w5, new_w6, new_w7, new_w8)\n",
    "#     new_bias = (new_b1, new_b2)\n",
    "\n",
    "#     decision = input(\"Please push Y to calculate one more step.\\n\")\n",
    "#     if decision.lower() == 'y':\n",
    "#         forward_propagation(inputs, new_weights, new_bias, y_values)"
   ]
  },
  {
   "cell_type": "code",
   "execution_count": 106,
   "id": "7db86e11-0e51-43d5-a673-c879dcd8be99",
   "metadata": {},
   "outputs": [],
   "source": [
    "# # Start the process\n",
    "# forward_propagation(inputs, weights, bias, y_values)"
   ]
  },
  {
   "cell_type": "code",
   "execution_count": 108,
   "id": "d6179072-4565-4c3e-80f1-72bc778e83b0",
   "metadata": {},
   "outputs": [
    {
     "data": {
      "text/plain": [
       "([2645.771027479956,\n",
       "  2642.313206481629,\n",
       "  2638.9713377609232,\n",
       "  2635.7384289015877,\n",
       "  2632.6085836345915],\n",
       " 2756.173932717753)"
      ]
     },
     "execution_count": 108,
     "metadata": {},
     "output_type": "execute_result"
    }
   ],
   "source": [
    "# Activation functions\n",
    "def sigmoid(x):\n",
    "    return 1 / (1 + np.exp(-x))\n",
    "\n",
    "def sigmoid_derivative(x):\n",
    "    s = sigmoid(x)\n",
    "    return s * (1 - s)\n",
    "\n",
    "# Loss function\n",
    "def mean_squared_error(y_true, y_pred):\n",
    "    return np.mean((y_true - y_pred) ** 2)\n",
    "\n",
    "for epoch in range(epochs):\n",
    "    # Forward propagation\n",
    "    z1 = np.dot(X_train, W1) + b1\n",
    "    a1 = sigmoid(z1)\n",
    "    z2 = np.dot(a1, W2) + b2  # Output layer\n",
    "    y_pred = z2\n",
    "\n",
    "    # Compute loss\n",
    "    loss = mean_squared_error(y_train, y_pred)\n",
    "    loss_curve.append(loss)\n",
    "\n",
    "    # Backward propagation\n",
    "    d_loss_y_pred = 2 * (y_pred - y_train) / y_train.shape[0]\n",
    "    dW2 = np.dot(a1.T, d_loss_y_pred)\n",
    "    db2 = np.sum(d_loss_y_pred, axis=0, keepdims=True)\n",
    "\n",
    "    da1 = np.dot(d_loss_y_pred, W2.T)\n",
    "    dz1 = da1 * sigmoid_derivative(z1)\n",
    "    dW1 = np.dot(X_train.T, dz1)\n",
    "    db1 = np.sum(dz1, axis=0, keepdims=True)\n",
    "\n",
    "    # Update weights and biases\n",
    "    W1 -= learning_rate * dW1\n",
    "    b1 -= learning_rate * db1\n",
    "    W2 -= learning_rate * dW2\n",
    "    b2 -= learning_rate * db2\n",
    "\n",
    "# Test evaluation\n",
    "z1_test = np.dot(X_test, W1) + b1\n",
    "a1_test = sigmoid(z1_test)\n",
    "z2_test = np.dot(a1_test, W2) + b2\n",
    "y_test_pred = z2_test\n",
    "\n",
    "test_mse = mean_squared_error(y_test, y_test_pred)\n",
    "loss_curve[-5:], test_mse"
   ]
  },
  {
   "cell_type": "code",
   "execution_count": null,
   "id": "e43a8241-5b1b-40e7-81ab-e292d55a77a6",
   "metadata": {},
   "outputs": [],
   "source": []
  },
  {
   "cell_type": "code",
   "execution_count": null,
   "id": "5c880b07-4cec-4d1f-b098-6a1d655ee842",
   "metadata": {},
   "outputs": [],
   "source": []
  },
  {
   "cell_type": "code",
   "execution_count": null,
   "id": "554b0982-1cdc-4ffe-8fdd-3521ee2f6d35",
   "metadata": {},
   "outputs": [],
   "source": []
  }
 ],
 "metadata": {
  "kernelspec": {
   "display_name": "Python [conda env:anaconda3]",
   "language": "python",
   "name": "conda-env-anaconda3-py"
  },
  "language_info": {
   "codemirror_mode": {
    "name": "ipython",
    "version": 3
   },
   "file_extension": ".py",
   "mimetype": "text/x-python",
   "name": "python",
   "nbconvert_exporter": "python",
   "pygments_lexer": "ipython3",
   "version": "3.12.7"
  }
 },
 "nbformat": 4,
 "nbformat_minor": 5
}
